{
 "cells": [
  {
   "cell_type": "code",
   "execution_count": 7,
   "id": "b5801266-afdd-4eee-95c9-eab6add7518a",
   "metadata": {},
   "outputs": [],
   "source": [
    ":dep ndarray-interp\n",
    ":dep vawt = {path=\"./\"}"
   ]
  },
  {
   "cell_type": "code",
   "execution_count": null,
   "id": "80a06d05-2384-446c-a26d-1e11ad8adf1a",
   "metadata": {},
   "outputs": [],
   "source": []
  }
 ],
 "metadata": {
  "kernelspec": {
   "display_name": "Rust",
   "language": "rust",
   "name": "rust"
  },
  "language_info": {
   "codemirror_mode": "rust",
   "file_extension": ".rs",
   "mimetype": "text/rust",
   "name": "Rust",
   "pygment_lexer": "rust",
   "version": ""
  }
 },
 "nbformat": 4,
 "nbformat_minor": 5
}
